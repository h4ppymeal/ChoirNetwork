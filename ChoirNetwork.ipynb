{
 "cells": [
  {
   "cell_type": "markdown",
   "metadata": {},
   "source": [
    "Instructions\n",
    " 1. Process the Text\n",
    " - Convert to Lowercase\n",
    " - Remove Punctuation & Numbers\n",
    " - Tokenization (Splitting text into individual words or tokens)\n",
    " - Removing Stop Words (e.g. \"and\", \"the\", \"of\")\n",
    " - Stemming/Lemmatization (reducing words to their base/root form) *optional\n",
    "\n",
    " 2. Vectorize Text\n",
    " - Convert text into numerical format using TF-IDF or embeddings\n",
    " - TF-IDF weights the words based on their frequency in a document against their frequency across all documents\n",
    " - Word embeddings using Word2Vec, CloVe, or FastText can be used to convert words into vectors (better)\n",
    "\n",
    " 3. Dimensionality Reduction with t-SNE\n",
    " - Choosing parameters (starting point 5 - 50, learning rate 10-1000)\n",
    " - Scaling - Might need to scae feature vectors before applying (MinMAxScaler or StandardScaler)\n",
    " - Applying t-SNE to reduce dimensionality of vectorized hymns (from scikit-learn)\n",
    "\n",
    " 4. Visualization\n",
    " - Plotting (Matplotlib) to create a scatter plot of 2D points\n",
    " - Enhancements to make visualization more informative (optional?)"
   ]
  },
  {
   "cell_type": "code",
   "execution_count": null,
   "metadata": {},
   "outputs": [],
   "source": [
    "from sklearn.feature_extraction.text import TfidVectorizer\n",
    "from sklearn.manifold import TSNE\n",
    "from sklearn.preprocessing import StandardScaler\n",
    "import matplotlib.pyplot as plt"
   ]
  },
  {
   "cell_type": "code",
   "execution_count": null,
   "metadata": {},
   "outputs": [],
   "source": [
    "# Import hymns\n",
    "hymns = []\n",
    "\n",
    "def get_hymns(): \n",
    "    h = input(\"Enter the hymn number (1-525). Press enter if finished. \")\n",
    "    if h:\n",
    "        hymns.append(int(h))\n",
    "        get_hymns()\n",
    "    else:\n",
    "        return hymns\n",
    "    \n",
    "get_hymns()"
   ]
  },
  {
   "cell_type": "code",
   "execution_count": null,
   "metadata": {},
   "outputs": [],
   "source": [
    "# 1. Process the Text\n"
   ]
  }
 ],
 "metadata": {
  "language_info": {
   "name": "python"
  }
 },
 "nbformat": 4,
 "nbformat_minor": 2
}
